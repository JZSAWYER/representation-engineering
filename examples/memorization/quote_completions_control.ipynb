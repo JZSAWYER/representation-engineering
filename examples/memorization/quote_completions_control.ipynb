{
 "cells": [
  {
   "cell_type": "code",
   "execution_count": 1,
   "id": "95355629-36c4-4a11-a88d-ac99c78747f1",
   "metadata": {},
   "outputs": [],
   "source": [
    "%load_ext autoreload\n",
    "%autoreload 2"
   ]
  },
  {
   "cell_type": "code",
   "execution_count": 2,
   "id": "b6418eb6-3a9b-47f1-8190-109cae54364f",
   "metadata": {},
   "outputs": [],
   "source": [
    "from transformers import AutoTokenizer, pipeline, AutoModelForCausalLM\n",
    "import matplotlib.pyplot as plt\n",
    "import torch\n",
    "from tqdm import tqdm\n",
    "import numpy as np\n",
    "\n",
    "from repe import repe_pipeline_registry, WrappedReadingVecModel\n",
    "repe_pipeline_registry()\n",
    "\n",
    "from utils import literary_openings_dataset, quotes_dataset, quote_completion_test, historical_year_test, extract_year, eval_completions"
   ]
  },
  {
   "cell_type": "code",
   "execution_count": 3,
   "id": "e9e43231-f623-4036-b9ad-7451947df18e",
   "metadata": {},
   "outputs": [
    {
     "data": {
      "application/vnd.jupyter.widget-view+json": {
       "model_id": "8f83fee6435c45a18a89538ec5076143",
       "version_major": 2,
       "version_minor": 0
      },
      "text/plain": [
       "Loading checkpoint shards:   0%|          | 0/2 [00:00<?, ?it/s]"
      ]
     },
     "metadata": {},
     "output_type": "display_data"
    }
   ],
   "source": [
    "# model_name_or_path = \"/home/v-hazhong/Models/gpt-neox-20b\"\n",
    "model_name_or_path = \"/home/v-hazhong/Models/Llama-2-7b-chat-hf\"\n",
    "\n",
    "model = AutoModelForCausalLM.from_pretrained(model_name_or_path, torch_dtype=torch.float16, device_map=\"auto\", token=True).eval()\n",
    "use_fast_tokenizer = \"LlamaForCausalLM\" not in model.config.architectures\n",
    "tokenizer = AutoTokenizer.from_pretrained(model_name_or_path, use_fast=use_fast_tokenizer, padding_side=\"left\", legacy=False, token=True)\n",
    "tokenizer.pad_token_id = 0 if tokenizer.pad_token_id is None else tokenizer.pad_token_id\n",
    "tokenizer.bos_token_id = 1"
   ]
  },
  {
   "cell_type": "markdown",
   "id": "c9f9cba9-e681-4398-8677-5ab4eb27841f",
   "metadata": {},
   "source": [
    "## Reading"
   ]
  },
  {
   "cell_type": "code",
   "execution_count": 4,
   "id": "9b7a04ed-d118-472d-85c1-d93930349bd6",
   "metadata": {},
   "outputs": [],
   "source": [
    "rep_token = -1\n",
    "hidden_layers = list(range(-1, -model.config.num_hidden_layers, -1))\n",
    "n_difference = 1\n",
    "direction_method = 'pca'\n",
    "rep_reading_pipeline =  pipeline(\"rep-reading\", model=model, tokenizer=tokenizer)"
   ]
  },
  {
   "cell_type": "code",
   "execution_count": 18,
   "id": "15224f4a-784a-4f56-9618-db9a0db8e5a8",
   "metadata": {},
   "outputs": [],
   "source": [
    "data_dir = \"../../data/memorization\"\n",
    "lit_train_data, lit_train_labels, lit_test_data, lit_test_labels = literary_openings_dataset(data_dir)\n",
    "quote_train_data, quote_train_labels, quote_test_data, quote_test_labels = quotes_dataset(data_dir)"
   ]
  },
  {
   "cell_type": "code",
   "execution_count": 22,
   "id": "5c728c33-9357-4b3a-9fc0-93ffa8e2aa2b",
   "metadata": {},
   "outputs": [],
   "source": [
    "lit_rep_reader = rep_reading_pipeline.get_directions(\n",
    "    lit_train_data, \n",
    "    rep_token=rep_token, \n",
    "    hidden_layers=hidden_layers, \n",
    "    n_difference=n_difference, \n",
    "    train_labels=lit_train_labels, \n",
    "    direction_method=direction_method,\n",
    ")\n",
    "\n",
    "quote_rep_reader = rep_reading_pipeline.get_directions(\n",
    "    quote_train_data, \n",
    "    rep_token=rep_token, \n",
    "    hidden_layers=hidden_layers, \n",
    "    n_difference=n_difference, \n",
    "    train_labels=quote_train_labels, \n",
    "    direction_method=direction_method,\n",
    ")"
   ]
  },
  {
   "cell_type": "code",
   "execution_count": 15,
   "id": "7d9fb81f",
   "metadata": {},
   "outputs": [
    {
     "name": "stdout",
     "output_type": "stream",
     "text": [
      "-1 : 0.16326530612244897\n",
      "=====\n",
      "-2 : 0.16326530612244897\n",
      "=====\n",
      "-3 : 0.8571428571428571\n",
      "=====\n",
      "-4 : 0.8571428571428571\n",
      "=====\n",
      "-5 : 0.8571428571428571\n",
      "=====\n",
      "-6 : 0.8163265306122449\n",
      "=====\n",
      "-7 : 0.7959183673469388\n",
      "=====\n",
      "-8 : 0.7959183673469388\n",
      "=====\n",
      "-9 : 0.8367346938775511\n",
      "=====\n",
      "-10 : 0.8571428571428571\n",
      "=====\n",
      "-11 : 0.8571428571428571\n",
      "=====\n",
      "-12 : 0.8571428571428571\n",
      "=====\n",
      "-13 : 0.8571428571428571\n",
      "=====\n",
      "-14 : 0.8571428571428571\n",
      "=====\n",
      "-15 : 0.8571428571428571\n",
      "=====\n",
      "-16 : 0.8775510204081632\n",
      "=====\n",
      "-17 : 0.8775510204081632\n",
      "=====\n",
      "-18 : 0.8775510204081632\n",
      "=====\n",
      "-19 : 0.8775510204081632\n",
      "=====\n",
      "-20 : 0.8775510204081632\n",
      "=====\n",
      "-21 : 0.8775510204081632\n",
      "=====\n",
      "-22 : 0.8775510204081632\n",
      "=====\n",
      "-23 : 0.8775510204081632\n",
      "=====\n",
      "-24 : 0.8979591836734694\n",
      "=====\n",
      "-25 : 0.8775510204081632\n",
      "=====\n",
      "-26 : 0.8775510204081632\n",
      "=====\n",
      "-27 : 0.8775510204081632\n",
      "=====\n",
      "-28 : 0.8775510204081632\n",
      "=====\n",
      "-29 : 0.8571428571428571\n",
      "=====\n",
      "-30 : 0.8367346938775511\n",
      "=====\n",
      "-31 : 0.8571428571428571\n",
      "=====\n"
     ]
    }
   ],
   "source": [
    "from itertools import islice\n",
    "# Eval validation\n",
    "results_val = {layer: {} for layer in hidden_layers}\n",
    "# labels = [[1, 0] for _ in range(98)]\n",
    "labels = quote_test_labels\n",
    "H_tests = rep_reading_pipeline(quote_test_data,\n",
    "                    rep_token=rep_token, \n",
    "                    hidden_layers=hidden_layers, \n",
    "                    rep_reader=quote_rep_reader,\n",
    "                    batch_size=8,\n",
    "                    max_length=2048,\n",
    "                    padding=\"longest\")\n",
    "\n",
    "for layer in hidden_layers:\n",
    "    H_test = [H[layer] for H in H_tests] \n",
    "    unflattened_H_tests = [list(islice(H_test, sum(len(c) for c in labels[:i]), sum(len(c) for c in labels[:i+1]))) for i in range(len(labels))]\n",
    "\n",
    "    sign = quote_rep_reader.direction_signs[layer]\n",
    "    eval_func = np.argmin if sign == -1 else np.argmax\n",
    "    cors = np.mean([labels[i].index(1) == eval_func(H) for i, H in enumerate(unflattened_H_tests)])\n",
    "    \n",
    "    results_val[layer] = cors\n",
    "    \n",
    "    print(f\"{layer} : {cors}\")\n",
    "    print(\"=====\")    "
   ]
  },
  {
   "cell_type": "code",
   "execution_count": 19,
   "id": "55e1f62b",
   "metadata": {},
   "outputs": [
    {
     "name": "stdout",
     "output_type": "stream",
     "text": [
      "-1 : 0.28125\n",
      "=====\n",
      "-2 : 0.3125\n",
      "=====\n",
      "-3 : 0.71875\n",
      "=====\n",
      "-4 : 0.6875\n",
      "=====\n",
      "-5 : 0.6875\n",
      "=====\n",
      "-6 : 0.6875\n",
      "=====\n",
      "-7 : 0.6875\n",
      "=====\n",
      "-8 : 0.6875\n",
      "=====\n",
      "-9 : 0.6875\n",
      "=====\n",
      "-10 : 0.6875\n",
      "=====\n",
      "-11 : 0.71875\n",
      "=====\n",
      "-12 : 0.6875\n",
      "=====\n",
      "-13 : 0.71875\n",
      "=====\n",
      "-14 : 0.71875\n",
      "=====\n",
      "-15 : 0.71875\n",
      "=====\n",
      "-16 : 0.71875\n",
      "=====\n",
      "-17 : 0.71875\n",
      "=====\n",
      "-18 : 0.6875\n",
      "=====\n",
      "-19 : 0.71875\n",
      "=====\n",
      "-20 : 0.71875\n",
      "=====\n",
      "-21 : 0.75\n",
      "=====\n",
      "-22 : 0.71875\n",
      "=====\n",
      "-23 : 0.6875\n",
      "=====\n",
      "-24 : 0.71875\n",
      "=====\n",
      "-25 : 0.6875\n",
      "=====\n",
      "-26 : 0.6875\n",
      "=====\n",
      "-27 : 0.78125\n",
      "=====\n",
      "-28 : 0.8125\n",
      "=====\n",
      "-29 : 0.78125\n",
      "=====\n",
      "-30 : 0.8125\n",
      "=====\n",
      "-31 : 0.84375\n",
      "=====\n"
     ]
    }
   ],
   "source": [
    "from itertools import islice\n",
    "# Eval validation\n",
    "results_val = {layer: {} for layer in hidden_layers}\n",
    "# labels = [[1, 0] for _ in range(98)]\n",
    "labels = lit_test_labels\n",
    "H_tests = rep_reading_pipeline(lit_test_data,\n",
    "                    rep_token=rep_token, \n",
    "                    hidden_layers=hidden_layers, \n",
    "                    rep_reader=quote_rep_reader,\n",
    "                    batch_size=8,\n",
    "                    max_length=2048,\n",
    "                    padding=\"longest\")\n",
    "\n",
    "for layer in hidden_layers:\n",
    "    H_test = [H[layer] for H in H_tests] \n",
    "    unflattened_H_tests = [list(islice(H_test, sum(len(c) for c in labels[:i]), sum(len(c) for c in labels[:i+1]))) for i in range(len(labels))]\n",
    "\n",
    "    sign = quote_rep_reader.direction_signs[layer]\n",
    "    eval_func = np.argmin if sign == -1 else np.argmax\n",
    "    cors = np.mean([labels[i].index(1) == eval_func(H) for i, H in enumerate(unflattened_H_tests)])\n",
    "    \n",
    "    results_val[layer] = cors\n",
    "    \n",
    "    print(f\"{layer} : {cors}\")\n",
    "    print(\"=====\")    "
   ]
  },
  {
   "cell_type": "code",
   "execution_count": 20,
   "id": "304dfc4f",
   "metadata": {},
   "outputs": [
    {
     "data": {
      "image/png": "[encoded data removed]",
      "text/plain": [
       "<Figure size 640x480 with 1 Axes>"
      ]
     },
     "metadata": {},
     "output_type": "display_data"
    }
   ],
   "source": [
    "x = list(results_val.keys())\n",
    "y_val = [results_val[layer] for layer in hidden_layers]\n",
    "# y_test = [results_test[layer] for layer in hidden_layers]\n",
    "\n",
    "\n",
    "plt.plot(x, y_val, label=\"Test\")\n",
    "# plt.plot(x, y_test, label=\"Test\")\n",
    "\n",
    "plt.title(f\"Acc by Layer\")\n",
    "plt.xlabel(\"Layer\")\n",
    "plt.ylabel(\"Acc\")\n",
    "plt.legend()\n",
    "plt.grid(True)\n",
    "plt.show()"
   ]
  },
  {
   "cell_type": "markdown",
   "id": "92d1372c-ab42-4ca3-bbc9-a54dfbb36389",
   "metadata": {},
   "source": [
    "## Quote Completions Control"
   ]
  },
  {
   "cell_type": "code",
   "execution_count": 12,
   "id": "67304c55-195f-4853-b16c-fe4c7673b038",
   "metadata": {},
   "outputs": [],
   "source": [
    "# Early layers work\n",
    "layer_id = list(range(-28,-32,-1))\n",
    "\n",
    "block_name=\"decoder_block\"\n",
    "control_method=\"reading_vec\"\n",
    "batch_size=64\n",
    "coeff=2.0 # tune this parameter\n",
    "max_new_tokens=16\n",
    "\n",
    "### We do manually instead of rep_control_pipeline here as an example\n",
    "wrapped_model = WrappedReadingVecModel(model, tokenizer)\n",
    "wrapped_model.unwrap()\n",
    "# wrap model at desired layers and blocks\n",
    "wrapped_model.wrap_block(layer_id, block_name=block_name)\n",
    "inputs, targets = quote_completion_test(data_dir)"
   ]
  },
  {
   "cell_type": "code",
   "execution_count": 13,
   "id": "b4b14935",
   "metadata": {},
   "outputs": [],
   "source": [
    "# helper functions\n",
    "def apply_activations(wrapped_model, \n",
    "                      inputs, \n",
    "                      activations, \n",
    "                      batch_size=8, \n",
    "                      use_tqdm=True,\n",
    "                      **generation_kwargs,\n",
    "                     ):\n",
    "    wrapped_model.reset()\n",
    "    wrapped_model.set_controller(layer_id, activations, masks=1)\n",
    "    generated = []\n",
    "\n",
    "    iterator = tqdm(range(0, len(inputs), batch_size)) if use_tqdm else range(0, len(inputs), batch_size)\n",
    "\n",
    "    for i in iterator:\n",
    "        inputs_b = inputs[i:i+batch_size]\n",
    "        decoded_outputs = wrapped_model.generate(inputs_b, **generation_kwargs)\n",
    "        decoded_outputs = [o.replace(i, \"\") for o,i in zip(decoded_outputs, inputs_b)]\n",
    "        generated.extend(decoded_outputs)\n",
    "\n",
    "    wrapped_model.reset()\n",
    "    return generated"
   ]
  },
  {
   "cell_type": "code",
   "execution_count": 15,
   "id": "a17e085c",
   "metadata": {},
   "outputs": [
    {
     "name": "stdout",
     "output_type": "stream",
     "text": [
      "RepReader: literature openings\n",
      "No Control\n"
     ]
    },
    {
     "ename": "TypeError",
     "evalue": "generate() takes 1 positional argument but 2 were given",
     "output_type": "error",
     "traceback": [
      "\u001b[0;31m---------------------------------------------------------------------------\u001b[0m",
      "\u001b[0;31mTypeError\u001b[0m                                 Traceback (most recent call last)",
      "Cell \u001b[0;32mIn[15], line 9\u001b[0m\n\u001b[1;32m      7\u001b[0m \u001b[38;5;28mprint\u001b[39m(\u001b[38;5;124m\"\u001b[39m\u001b[38;5;124mRepReader:\u001b[39m\u001b[38;5;124m\"\u001b[39m, t)\n\u001b[1;32m      8\u001b[0m \u001b[38;5;28mprint\u001b[39m(\u001b[38;5;124m\"\u001b[39m\u001b[38;5;124mNo Control\u001b[39m\u001b[38;5;124m\"\u001b[39m)\n\u001b[0;32m----> 9\u001b[0m baseline_outputs \u001b[38;5;241m=\u001b[39m \u001b[43mapply_activations\u001b[49m\u001b[43m(\u001b[49m\u001b[43mwrapped_model\u001b[49m\u001b[43m,\u001b[49m\n\u001b[1;32m     10\u001b[0m \u001b[43m                            \u001b[49m\u001b[43minputs\u001b[49m\u001b[43m,\u001b[49m\u001b[43m \u001b[49m\n\u001b[1;32m     11\u001b[0m \u001b[43m                            \u001b[49m\u001b[43mactivations\u001b[49m\u001b[43m,\u001b[49m\n\u001b[1;32m     12\u001b[0m \u001b[43m                            \u001b[49m\u001b[43mbatch_size\u001b[49m\u001b[38;5;241;43m=\u001b[39;49m\u001b[38;5;241;43m64\u001b[39;49m\u001b[43m,\u001b[49m\n\u001b[1;32m     13\u001b[0m \u001b[43m                            \u001b[49m\u001b[43mmax_new_tokens\u001b[49m\u001b[38;5;241;43m=\u001b[39;49m\u001b[43mmax_new_tokens\u001b[49m\u001b[43m,\u001b[49m\u001b[43m \u001b[49m\n\u001b[1;32m     14\u001b[0m \u001b[43m                            \u001b[49m\u001b[43muse_tqdm\u001b[49m\u001b[38;5;241;43m=\u001b[39;49m\u001b[38;5;28;43;01mFalse\u001b[39;49;00m\u001b[43m)\u001b[49m\n\u001b[1;32m     15\u001b[0m \u001b[38;5;28mprint\u001b[39m(eval_completions(baseline_outputs, targets))\n\u001b[1;32m     17\u001b[0m activations \u001b[38;5;241m=\u001b[39m {}\n",
      "Cell \u001b[0;32mIn[13], line 17\u001b[0m, in \u001b[0;36mapply_activations\u001b[0;34m(wrapped_model, inputs, activations, batch_size, use_tqdm, **generation_kwargs)\u001b[0m\n\u001b[1;32m     15\u001b[0m \u001b[38;5;28;01mfor\u001b[39;00m i \u001b[38;5;129;01min\u001b[39;00m iterator:\n\u001b[1;32m     16\u001b[0m     inputs_b \u001b[38;5;241m=\u001b[39m inputs[i:i\u001b[38;5;241m+\u001b[39mbatch_size]\n\u001b[0;32m---> 17\u001b[0m     decoded_outputs \u001b[38;5;241m=\u001b[39m \u001b[43mwrapped_model\u001b[49m\u001b[38;5;241;43m.\u001b[39;49m\u001b[43mgenerate\u001b[49m\u001b[43m(\u001b[49m\u001b[43minputs_b\u001b[49m\u001b[43m,\u001b[49m\u001b[43m \u001b[49m\u001b[38;5;241;43m*\u001b[39;49m\u001b[38;5;241;43m*\u001b[39;49m\u001b[43mgeneration_kwargs\u001b[49m\u001b[43m)\u001b[49m\n\u001b[1;32m     18\u001b[0m     decoded_outputs \u001b[38;5;241m=\u001b[39m [o\u001b[38;5;241m.\u001b[39mreplace(i, \u001b[38;5;124m\"\u001b[39m\u001b[38;5;124m\"\u001b[39m) \u001b[38;5;28;01mfor\u001b[39;00m o,i \u001b[38;5;129;01min\u001b[39;00m \u001b[38;5;28mzip\u001b[39m(decoded_outputs, inputs_b)]\n\u001b[1;32m     19\u001b[0m     generated\u001b[38;5;241m.\u001b[39mextend(decoded_outputs)\n",
      "\u001b[0;31mTypeError\u001b[0m: generate() takes 1 positional argument but 2 were given"
     ]
    }
   ],
   "source": [
    "for t, rep_reader in zip(['literature openings', 'quotes'], [lit_rep_reader, quote_rep_reader]):\n",
    "\n",
    "    activations = {}\n",
    "    for layer in layer_id:\n",
    "        activations[layer] = torch.tensor(0 * coeff * rep_reader.directions[layer] * rep_reader.direction_signs[layer]).to(model.device).half()\n",
    "\n",
    "    print(\"RepReader:\", t)\n",
    "    print(\"No Control\")\n",
    "    baseline_outputs = apply_activations(wrapped_model,\n",
    "                                inputs, \n",
    "                                activations,\n",
    "                                batch_size=64,\n",
    "                                max_new_tokens=max_new_tokens, \n",
    "                                use_tqdm=False)\n",
    "    print(eval_completions(baseline_outputs, targets))\n",
    "\n",
    "    activations = {}\n",
    "    for layer in layer_id:\n",
    "        activations[layer] = torch.tensor(coeff * rep_reader.directions[layer] * rep_reader.direction_signs[layer]).to(model.device).half()\n",
    "\n",
    "    print(\"+ Memorization\")\n",
    "    pos_outputs = apply_activations(wrapped_model,\n",
    "                                inputs, \n",
    "                                activations,\n",
    "                                batch_size=64,\n",
    "                                max_new_tokens=max_new_tokens, \n",
    "                                use_tqdm=False)\n",
    "    print(eval_completions(pos_outputs, targets))\n",
    "    \n",
    "    activations = {}\n",
    "    for layer in layer_id:\n",
    "        activations[layer] = torch.tensor(-coeff * rep_reader.directions[layer] * rep_reader.direction_signs[layer]).to(model.device).half()\n",
    "    \n",
    "    print(\"- Memorization\")\n",
    "    neg_outputs = apply_activations(wrapped_model,\n",
    "                                inputs, \n",
    "                                activations,\n",
    "                                batch_size=64,\n",
    "                                max_new_tokens=max_new_tokens, \n",
    "                                use_tqdm=False)\n",
    "    print(eval_completions(neg_outputs, targets))"
   ]
  },
  {
   "cell_type": "code",
   "execution_count": null,
   "id": "b7e38372",
   "metadata": {},
   "outputs": [],
   "source": []
  }
 ],
 "metadata": {
  "kernelspec": {
   "display_name": "repe",
   "language": "python",
   "name": "python3"
  },
  "language_info": {
   "codemirror_mode": {
    "name": "ipython",
    "version": 3
   },
   "file_extension": ".py",
   "mimetype": "text/x-python",
   "name": "python",
   "nbconvert_exporter": "python",
   "pygments_lexer": "ipython3",
   "version": "3.11.7"
  }
 },
 "nbformat": 4,
 "nbformat_minor": 5
}
