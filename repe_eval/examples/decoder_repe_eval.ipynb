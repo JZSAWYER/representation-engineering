{
 "cells": [
  {
   "cell_type": "code",
   "execution_count": 1,
   "id": "60d4f2f3-0e04-46ba-a7a4-ce723abe9c5a",
   "metadata": {},
   "outputs": [
    {
     "name": "stderr",
     "output_type": "stream",
     "text": [
      "/home/v-hazhong/anaconda3/envs/repe/lib/python3.12/site-packages/tqdm/auto.py:21: TqdmWarning: IProgress not found. Please update jupyter and ipywidgets. See https://ipywidgets.readthedocs.io/en/stable/user_install.html\n",
      "  from .autonotebook import tqdm as notebook_tqdm\n"
     ]
    }
   ],
   "source": [
    "import sys\n",
    "from itertools import islice\n",
    "import torch\n",
    "import numpy as np\n",
    "import matplotlib.pyplot as plt\n",
    "from transformers import AutoModelForCausalLM, AutoTokenizer, pipeline\n",
    "\n",
    "# Local task dataloaders\n",
    "sys.path.append('../')\n",
    "from tasks import task_dataset\n",
    "\n",
    "# load repe module\n",
    "from repe import repe_pipeline_registry\n",
    "repe_pipeline_registry()\n"
   ]
  },
  {
   "cell_type": "code",
   "execution_count": 3,
   "id": "6e985c96-4df2-42d0-82d1-14cd4fbec28b",
   "metadata": {},
   "outputs": [
    {
     "name": "stderr",
     "output_type": "stream",
     "text": [
      "Loading checkpoint shards:   0%|          | 0/2 [00:00<?, ?it/s]"
     ]
    },
    {
     "name": "stderr",
     "output_type": "stream",
     "text": [
      "Loading checkpoint shards: 100%|██████████| 2/2 [00:02<00:00,  1.37s/it]\n"
     ]
    }
   ],
   "source": [
    "model_name_or_path = \"/home/v-hazhong/Models/Llama-2-7b-chat-hf\"\n",
    "\n",
    "model = AutoModelForCausalLM.from_pretrained(model_name_or_path, torch_dtype=torch.bfloat16, device_map=\"auto\", token=True).eval()\n",
    "use_fast_tokenizer = \"LlamaForCausalLM\" not in model.config.architectures\n",
    "tokenizer = AutoTokenizer.from_pretrained(model_name_or_path, use_fast=use_fast_tokenizer, padding_side=\"left\", legacy=False, token=True)\n",
    "tokenizer.pad_token_id = 0 if tokenizer.pad_token_id is None else tokenizer.pad_token_id\n",
    "tokenizer.bos_token_id = 1\n",
    "\n",
    "rep_pipeline =  pipeline(\"rep-reading\", model=model, tokenizer=tokenizer)"
   ]
  },
  {
   "cell_type": "code",
   "execution_count": 4,
   "id": "f097707c-5256-47ae-9c6d-39f79e8ea6fa",
   "metadata": {},
   "outputs": [],
   "source": [
    "batch_size = 32\n",
    "max_length = 2048\n",
    "\n",
    "rep_token = -1\n",
    "hidden_layers = list(range(-1, -model.config.num_hidden_layers, -1))\n",
    "n_difference = 1\n",
    "direction_method = 'pca'"
   ]
  },
  {
   "cell_type": "code",
   "execution_count": 5,
   "id": "10f3042e-2667-46c4-89bf-52e0fafe0a71",
   "metadata": {},
   "outputs": [
    {
     "name": "stderr",
     "output_type": "stream",
     "text": [
      "Downloading readme: 100%|██████████| 9.00k/9.00k [00:00<00:00, 26.0MB/s]\n",
      "Downloading data: 100%|██████████| 190k/190k [00:00<00:00, 340kB/s]\n",
      "Downloading data: 100%|██████████| 204k/204k [00:00<00:00, 1.01MB/s]\n",
      "Downloading data: 100%|██████████| 55.7k/55.7k [00:00<00:00, 293kB/s]\n",
      "Generating train split: 100%|██████████| 1119/1119 [00:00<00:00, 199228.55 examples/s]\n",
      "Generating test split: 100%|██████████| 1172/1172 [00:00<00:00, 322893.08 examples/s]\n",
      "Generating validation split: 100%|██████████| 299/299 [00:00<00:00, 168856.46 examples/s]\n",
      "Filter: 100%|██████████| 1119/1119 [00:00<00:00, 53609.14 examples/s]\n"
     ]
    }
   ],
   "source": [
    "# Define tasks and #shots here\n",
    "\n",
    "# task, ntrain = 'obqa', 5\n",
    "# task, ntrain = 'csqa', 7\n",
    "task, ntrain = 'arc_challenge', 25\n",
    "# task, ntrain = 'race', 3\n",
    "\n",
    "\n",
    "dataset = task_dataset(task)(ntrain=ntrain)"
   ]
  },
  {
   "cell_type": "code",
   "execution_count": 6,
   "id": "ef5d269b-6da7-47b4-abf8-f538923f594e",
   "metadata": {},
   "outputs": [],
   "source": [
    "# Build an unsupervised LAT PCA representation\n",
    "direction_finder_kwargs= {\"n_components\": 1}\n",
    "rep_reader = rep_pipeline.get_directions(\n",
    "    dataset['train']['data'], \n",
    "    rep_token=rep_token, \n",
    "    hidden_layers=hidden_layers, \n",
    "    n_difference=n_difference, \n",
    "    train_labels=dataset['train']['labels'], \n",
    "    direction_method=direction_method,\n",
    "    direction_finder_kwargs=direction_finder_kwargs,\n",
    "    batch_size=batch_size,\n",
    "    max_length=max_length,\n",
    "    padding=\"longest\",\n",
    ")"
   ]
  },
  {
   "cell_type": "code",
   "execution_count": 7,
   "id": "257ab291-2bd7-4c98-85fd-e6b67eeb263e",
   "metadata": {
    "scrolled": true
   },
   "outputs": [
    {
     "name": "stdout",
     "output_type": "stream",
     "text": [
      "-1 : 0.5886287625418061\n",
      "=====\n",
      "-2 : 0.5953177257525084\n",
      "=====\n",
      "-3 : 0.5886287625418061\n",
      "=====\n",
      "-4 : 0.5919732441471572\n",
      "=====\n",
      "-5 : 0.5953177257525084\n",
      "=====\n",
      "-6 : 0.5919732441471572\n",
      "=====\n",
      "-7 : 0.5919732441471572\n",
      "=====\n",
      "-8 : 0.5953177257525084\n",
      "=====\n",
      "-9 : 0.5953177257525084\n",
      "=====\n",
      "-10 : 0.6053511705685619\n",
      "=====\n",
      "-11 : 0.6053511705685619\n",
      "=====\n",
      "-12 : 0.6053511705685619\n",
      "=====\n",
      "-13 : 0.5986622073578596\n",
      "=====\n",
      "-14 : 0.5986622073578596\n",
      "=====\n",
      "-15 : 0.5953177257525084\n",
      "=====\n",
      "-16 : 0.6020066889632107\n",
      "=====\n",
      "-17 : 0.5986622073578596\n",
      "=====\n",
      "-18 : 0.5919732441471572\n",
      "=====\n",
      "-19 : 0.5852842809364549\n",
      "=====\n",
      "-20 : 0.5150501672240803\n",
      "=====\n",
      "-21 : 0.3076923076923077\n",
      "=====\n",
      "-22 : 0.26755852842809363\n",
      "=====\n",
      "-23 : 0.24749163879598662\n",
      "=====\n",
      "-24 : 0.25418060200668896\n",
      "=====\n",
      "-25 : 0.2608695652173913\n",
      "=====\n",
      "-26 : 0.25752508361204013\n",
      "=====\n",
      "-27 : 0.25418060200668896\n",
      "=====\n",
      "-28 : 0.22073578595317725\n",
      "=====\n",
      "-29 : 0.22742474916387959\n",
      "=====\n",
      "-30 : 0.25752508361204013\n",
      "=====\n",
      "-31 : 0.24414715719063546\n",
      "=====\n"
     ]
    }
   ],
   "source": [
    "# Eval validation\n",
    "results_val = {layer: {} for layer in hidden_layers}\n",
    "labels = dataset['val']['labels']\n",
    "H_tests = rep_pipeline(dataset['val']['data'],\n",
    "                    rep_token=rep_token, \n",
    "                    hidden_layers=hidden_layers, \n",
    "                    rep_reader=rep_reader,\n",
    "                    batch_size=8,\n",
    "                    max_length=2048,\n",
    "                    padding=\"longest\")\n",
    "\n",
    "for layer in hidden_layers:\n",
    "    H_test = [H[layer] for H in H_tests] \n",
    "    unflattened_H_tests = [list(islice(H_test, sum(len(c) for c in labels[:i]), sum(len(c) for c in labels[:i+1]))) for i in range(len(labels))]\n",
    "\n",
    "    sign = rep_reader.direction_signs[layer]\n",
    "    eval_func = np.argmin if sign == -1 else np.argmax\n",
    "    cors = np.mean([labels[i].index(1) == eval_func(H) for i, H in enumerate(unflattened_H_tests)])\n",
    "\n",
    "    results_val[layer] = cors\n",
    "    \n",
    "    print(f\"{layer} : {cors}\")\n",
    "    print(\"=====\")    "
   ]
  },
  {
   "cell_type": "code",
   "execution_count": 8,
   "id": "4a087af5-45a9-4a74-921f-d1b068ea1113",
   "metadata": {
    "scrolled": true
   },
   "outputs": [
    {
     "name": "stdout",
     "output_type": "stream",
     "text": [
      "-1 : 0.6006825938566553\n",
      "=====\n",
      "-2 : 0.6015358361774744\n",
      "=====\n",
      "-3 : 0.6023890784982935\n",
      "=====\n",
      "-4 : 0.6040955631399317\n",
      "=====\n",
      "-5 : 0.6015358361774744\n",
      "=====\n",
      "-6 : 0.6023890784982935\n",
      "=====\n",
      "-7 : 0.6006825938566553\n",
      "=====\n",
      "-8 : 0.6032423208191127\n",
      "=====\n",
      "-9 : 0.6006825938566553\n",
      "=====\n",
      "-10 : 0.6075085324232082\n",
      "=====\n",
      "-11 : 0.6015358361774744\n",
      "=====\n",
      "-12 : 0.6023890784982935\n",
      "=====\n",
      "-13 : 0.6032423208191127\n",
      "=====\n",
      "-14 : 0.5998293515358362\n",
      "=====\n",
      "-15 : 0.5981228668941979\n",
      "=====\n",
      "-16 : 0.5972696245733788\n",
      "=====\n",
      "-17 : 0.6015358361774744\n",
      "=====\n",
      "-18 : 0.5947098976109215\n",
      "=====\n",
      "-19 : 0.6006825938566553\n",
      "=====\n",
      "-20 : 0.5418088737201365\n",
      "=====\n",
      "-21 : 0.33361774744027306\n",
      "=====\n",
      "-22 : 0.24488054607508533\n",
      "=====\n",
      "-23 : 0.2508532423208191\n",
      "=====\n",
      "-24 : 0.25597269624573377\n",
      "=====\n",
      "-25 : 0.2551194539249147\n",
      "=====\n",
      "-26 : 0.24061433447098976\n",
      "=====\n",
      "-27 : 0.23208191126279865\n",
      "=====\n",
      "-28 : 0.24658703071672355\n",
      "=====\n",
      "-29 : 0.24829351535836178\n",
      "=====\n",
      "-30 : 0.257679180887372\n",
      "=====\n",
      "-31 : 0.2619453924914676\n",
      "=====\n"
     ]
    }
   ],
   "source": [
    "# Eval Test\n",
    "results_test = {layer: {} for layer in hidden_layers}\n",
    "labels = dataset['test']['labels']\n",
    "H_tests = rep_pipeline(dataset['test']['data'], \n",
    "                    rep_token=rep_token, \n",
    "                    hidden_layers=hidden_layers, \n",
    "                    rep_reader=rep_reader,\n",
    "                    batch_size=8,\n",
    "                    max_length=2048,\n",
    "                    padding=\"longest\")\n",
    "\n",
    "for layer in hidden_layers:\n",
    "    H_test = [H[layer] for H in H_tests] \n",
    "    unflattened_H_tests = [list(islice(H_test, sum(len(c) for c in labels[:i]), sum(len(c) for c in labels[:i+1]))) for i in range(len(labels))]\n",
    "\n",
    "    sign = rep_reader.direction_signs[layer]\n",
    "    eval_func = np.argmin if sign == -1 else np.argmax\n",
    "    cors = np.mean([labels[i].index(1) == eval_func(H) for i, H in enumerate(unflattened_H_tests)])\n",
    "\n",
    "    results_test[layer] = cors\n",
    "    \n",
    "    print(f\"{layer} : {cors}\")\n",
    "    print(\"=====\") "
   ]
  },
  {
   "cell_type": "code",
   "execution_count": 9,
   "id": "c0bcd823-6a3a-4c67-b752-2fd890b4df80",
   "metadata": {},
   "outputs": [
    {
     "data": {
      "image/png": "[encoded data removed]",
      "text/plain": [
       "<Figure size 640x480 with 1 Axes>"
      ]
     },
     "metadata": {},
     "output_type": "display_data"
    }
   ],
   "source": [
    "x = list(results_val.keys())\n",
    "y_val = [results_val[layer] for layer in hidden_layers]\n",
    "y_test = [results_test[layer] for layer in hidden_layers]\n",
    "\n",
    "\n",
    "plt.plot(x, y_val, label=\"Dev\")\n",
    "plt.plot(x, y_test, label=\"Test\")\n",
    "\n",
    "plt.title(f\"{task} Acc by Layer\")\n",
    "plt.xlabel(\"Layer\")\n",
    "plt.ylabel(\"Acc\")\n",
    "plt.legend()\n",
    "plt.grid(True)\n",
    "plt.show()"
   ]
  }
 ],
 "metadata": {
  "kernelspec": {
   "display_name": "Python 3",
   "language": "python",
   "name": "python3"
  },
  "language_info": {
   "codemirror_mode": {
    "name": "ipython",
    "version": 3
   },
   "file_extension": ".py",
   "mimetype": "text/x-python",
   "name": "python",
   "nbconvert_exporter": "python",
   "pygments_lexer": "ipython3",
   "version": "3.12.2"
  }
 },
 "nbformat": 4,
 "nbformat_minor": 5
}
